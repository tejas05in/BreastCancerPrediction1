{
 "cells": [
  {
   "cell_type": "code",
   "execution_count": 1,
   "metadata": {},
   "outputs": [],
   "source": [
    "import pandas as pd"
   ]
  },
  {
   "cell_type": "code",
   "execution_count": 2,
   "metadata": {},
   "outputs": [],
   "source": [
    "df = pd.read_csv('./data/breast_cancer.csv')"
   ]
  },
  {
   "cell_type": "code",
   "execution_count": 3,
   "metadata": {},
   "outputs": [],
   "source": [
    "#highly correlated columns to remove\n",
    "to_drop = ['worst radius', 'worst texture', 'worst perimeter', 'worst area','worst concave points','mean concave points','radius error','area error','mean radius','mean perimeter']\n",
    "df.drop(to_drop,axis=1,inplace=True)"
   ]
  },
  {
   "cell_type": "code",
   "execution_count": 4,
   "metadata": {},
   "outputs": [],
   "source": [
    "## Independent and dependent features\n",
    "X = df.drop('target',axis=1)\n",
    "y = df['target']"
   ]
  },
  {
   "cell_type": "code",
   "execution_count": 5,
   "metadata": {},
   "outputs": [
    {
     "data": {
      "text/plain": [
       "0      0\n",
       "1      0\n",
       "2      0\n",
       "3      0\n",
       "4      0\n",
       "      ..\n",
       "564    1\n",
       "565    0\n",
       "566    1\n",
       "567    1\n",
       "568    0\n",
       "Name: target, Length: 569, dtype: int64"
      ]
     },
     "execution_count": 5,
     "metadata": {},
     "output_type": "execute_result"
    }
   ],
   "source": [
    "y"
   ]
  },
  {
   "cell_type": "code",
   "execution_count": 6,
   "metadata": {},
   "outputs": [],
   "source": [
    "#rectifying target imbalance\n",
    "from imblearn.combine import SMOTETomek\n",
    "\n",
    "resampler = SMOTETomek(sampling_strategy=\"auto\")\n",
    "X , y = resampler.fit_resample(X, y)"
   ]
  },
  {
   "cell_type": "code",
   "execution_count": 7,
   "metadata": {},
   "outputs": [
    {
     "data": {
      "text/plain": [
       "((337, 20), (337, 20))"
      ]
     },
     "execution_count": 7,
     "metadata": {},
     "output_type": "execute_result"
    }
   ],
   "source": [
    "X[y==1].shape , X[y==0].shape"
   ]
  },
  {
   "cell_type": "code",
   "execution_count": 8,
   "metadata": {},
   "outputs": [
    {
     "data": {
      "text/plain": [
       "Index(['mean texture', 'mean area', 'mean smoothness', 'mean compactness',\n",
       "       'mean concavity', 'mean symmetry', 'mean fractal dimension',\n",
       "       'texture error', 'perimeter error', 'smoothness error',\n",
       "       'compactness error', 'concavity error', 'concave points error',\n",
       "       'symmetry error', 'fractal dimension error', 'worst smoothness',\n",
       "       'worst compactness', 'worst concavity', 'worst symmetry',\n",
       "       'worst fractal dimension'],\n",
       "      dtype='object')"
      ]
     },
     "execution_count": 8,
     "metadata": {},
     "output_type": "execute_result"
    }
   ],
   "source": [
    "#All features in X are numerical in nature\n",
    "numerical_cols = X.columns\n",
    "numerical_cols"
   ]
  },
  {
   "cell_type": "code",
   "execution_count": 9,
   "metadata": {},
   "outputs": [],
   "source": [
    "# since all the features are only numerical in nature creating only numerical pipeline\n",
    "from sklearn.impute import SimpleImputer ## HAndling Missing Values\n",
    "from sklearn.preprocessing import StandardScaler # HAndling Feature Scaling\n",
    "## pipelines\n",
    "from sklearn.pipeline import Pipeline\n",
    "from sklearn.compose import ColumnTransformer"
   ]
  },
  {
   "cell_type": "code",
   "execution_count": 10,
   "metadata": {},
   "outputs": [],
   "source": [
    "numerical_pipeline = Pipeline(\n",
    "    steps=[\n",
    "        ('imputer',SimpleImputer(strategy='median')),\n",
    "        ('scaler', StandardScaler())\n",
    "    ]\n",
    ")\n",
    "\n",
    "preprocessor = ColumnTransformer([\n",
    "    ('numerical_pipeline',numerical_pipeline , numerical_cols)\n",
    "])"
   ]
  },
  {
   "cell_type": "code",
   "execution_count": 11,
   "metadata": {},
   "outputs": [],
   "source": [
    "## Train test split\n",
    "\n",
    "from sklearn.model_selection import train_test_split\n",
    "\n",
    "X_train,X_test,y_train,y_test=train_test_split(X,y,test_size=0.30,random_state=30)"
   ]
  },
  {
   "cell_type": "code",
   "execution_count": 12,
   "metadata": {},
   "outputs": [],
   "source": [
    "X_train=pd.DataFrame(preprocessor.fit_transform(X_train),columns=preprocessor.get_feature_names_out())\n",
    "X_test=pd.DataFrame(preprocessor.transform(X_test),columns=preprocessor.get_feature_names_out())"
   ]
  },
  {
   "cell_type": "code",
   "execution_count": 13,
   "metadata": {},
   "outputs": [
    {
     "data": {
      "text/plain": [
       "((471, 20), (203, 20))"
      ]
     },
     "execution_count": 13,
     "metadata": {},
     "output_type": "execute_result"
    }
   ],
   "source": [
    "X_train.shape , X_test.shape"
   ]
  },
  {
   "cell_type": "code",
   "execution_count": 14,
   "metadata": {},
   "outputs": [
    {
     "data": {
      "text/html": [
       "<div>\n",
       "<style scoped>\n",
       "    .dataframe tbody tr th:only-of-type {\n",
       "        vertical-align: middle;\n",
       "    }\n",
       "\n",
       "    .dataframe tbody tr th {\n",
       "        vertical-align: top;\n",
       "    }\n",
       "\n",
       "    .dataframe thead th {\n",
       "        text-align: right;\n",
       "    }\n",
       "</style>\n",
       "<table border=\"1\" class=\"dataframe\">\n",
       "  <thead>\n",
       "    <tr style=\"text-align: right;\">\n",
       "      <th></th>\n",
       "      <th>numerical_pipeline__mean texture</th>\n",
       "      <th>numerical_pipeline__mean area</th>\n",
       "      <th>numerical_pipeline__mean smoothness</th>\n",
       "      <th>numerical_pipeline__mean compactness</th>\n",
       "      <th>numerical_pipeline__mean concavity</th>\n",
       "      <th>numerical_pipeline__mean symmetry</th>\n",
       "      <th>numerical_pipeline__mean fractal dimension</th>\n",
       "      <th>numerical_pipeline__texture error</th>\n",
       "      <th>numerical_pipeline__perimeter error</th>\n",
       "      <th>numerical_pipeline__smoothness error</th>\n",
       "      <th>numerical_pipeline__compactness error</th>\n",
       "      <th>numerical_pipeline__concavity error</th>\n",
       "      <th>numerical_pipeline__concave points error</th>\n",
       "      <th>numerical_pipeline__symmetry error</th>\n",
       "      <th>numerical_pipeline__fractal dimension error</th>\n",
       "      <th>numerical_pipeline__worst smoothness</th>\n",
       "      <th>numerical_pipeline__worst compactness</th>\n",
       "      <th>numerical_pipeline__worst concavity</th>\n",
       "      <th>numerical_pipeline__worst symmetry</th>\n",
       "      <th>numerical_pipeline__worst fractal dimension</th>\n",
       "    </tr>\n",
       "  </thead>\n",
       "  <tbody>\n",
       "    <tr>\n",
       "      <th>0</th>\n",
       "      <td>-2.105245</td>\n",
       "      <td>-0.843762</td>\n",
       "      <td>-0.268268</td>\n",
       "      <td>-0.838912</td>\n",
       "      <td>-0.828622</td>\n",
       "      <td>-0.630615</td>\n",
       "      <td>-0.217231</td>\n",
       "      <td>-1.359588</td>\n",
       "      <td>-0.930287</td>\n",
       "      <td>-0.320810</td>\n",
       "      <td>-0.649737</td>\n",
       "      <td>-0.621976</td>\n",
       "      <td>-0.961981</td>\n",
       "      <td>-0.844049</td>\n",
       "      <td>-0.634506</td>\n",
       "      <td>0.878031</td>\n",
       "      <td>-0.249855</td>\n",
       "      <td>-0.466684</td>\n",
       "      <td>0.079158</td>\n",
       "      <td>-0.009074</td>\n",
       "    </tr>\n",
       "    <tr>\n",
       "      <th>1</th>\n",
       "      <td>0.922938</td>\n",
       "      <td>2.591197</td>\n",
       "      <td>0.326972</td>\n",
       "      <td>0.236627</td>\n",
       "      <td>1.276580</td>\n",
       "      <td>-0.138297</td>\n",
       "      <td>-1.072114</td>\n",
       "      <td>-0.578906</td>\n",
       "      <td>1.227488</td>\n",
       "      <td>-0.338919</td>\n",
       "      <td>-0.336012</td>\n",
       "      <td>-0.012265</td>\n",
       "      <td>0.161154</td>\n",
       "      <td>-0.561316</td>\n",
       "      <td>-0.231943</td>\n",
       "      <td>0.459369</td>\n",
       "      <td>0.047006</td>\n",
       "      <td>0.725469</td>\n",
       "      <td>-0.253478</td>\n",
       "      <td>-0.260552</td>\n",
       "    </tr>\n",
       "    <tr>\n",
       "      <th>2</th>\n",
       "      <td>0.166003</td>\n",
       "      <td>-0.494141</td>\n",
       "      <td>-1.744514</td>\n",
       "      <td>-1.098527</td>\n",
       "      <td>-1.035719</td>\n",
       "      <td>-0.457581</td>\n",
       "      <td>-0.539607</td>\n",
       "      <td>0.401487</td>\n",
       "      <td>-0.397163</td>\n",
       "      <td>0.292090</td>\n",
       "      <td>-0.360902</td>\n",
       "      <td>-0.677468</td>\n",
       "      <td>-1.100623</td>\n",
       "      <td>0.030260</td>\n",
       "      <td>-0.444518</td>\n",
       "      <td>-0.994411</td>\n",
       "      <td>-0.703270</td>\n",
       "      <td>-1.095577</td>\n",
       "      <td>-0.457654</td>\n",
       "      <td>-0.599202</td>\n",
       "    </tr>\n",
       "    <tr>\n",
       "      <th>3</th>\n",
       "      <td>-0.235905</td>\n",
       "      <td>1.128214</td>\n",
       "      <td>0.830585</td>\n",
       "      <td>0.596335</td>\n",
       "      <td>1.475565</td>\n",
       "      <td>-0.043805</td>\n",
       "      <td>-0.214366</td>\n",
       "      <td>0.288408</td>\n",
       "      <td>0.171705</td>\n",
       "      <td>-0.582388</td>\n",
       "      <td>0.070419</td>\n",
       "      <td>0.257569</td>\n",
       "      <td>-0.141886</td>\n",
       "      <td>-0.404538</td>\n",
       "      <td>-0.248773</td>\n",
       "      <td>0.729977</td>\n",
       "      <td>0.563732</td>\n",
       "      <td>1.343236</td>\n",
       "      <td>0.487069</td>\n",
       "      <td>0.253085</td>\n",
       "    </tr>\n",
       "    <tr>\n",
       "      <th>4</th>\n",
       "      <td>-0.700903</td>\n",
       "      <td>-0.921484</td>\n",
       "      <td>0.743662</td>\n",
       "      <td>-0.632877</td>\n",
       "      <td>-0.884993</td>\n",
       "      <td>-0.453820</td>\n",
       "      <td>0.108010</td>\n",
       "      <td>0.251875</td>\n",
       "      <td>-0.826103</td>\n",
       "      <td>-0.627608</td>\n",
       "      <td>-0.977508</td>\n",
       "      <td>-0.768887</td>\n",
       "      <td>-0.803687</td>\n",
       "      <td>-0.403360</td>\n",
       "      <td>-0.637577</td>\n",
       "      <td>0.098572</td>\n",
       "      <td>-0.803216</td>\n",
       "      <td>-0.955277</td>\n",
       "      <td>0.049788</td>\n",
       "      <td>-0.355383</td>\n",
       "    </tr>\n",
       "  </tbody>\n",
       "</table>\n",
       "</div>"
      ],
      "text/plain": [
       "   numerical_pipeline__mean texture  numerical_pipeline__mean area  \\\n",
       "0                         -2.105245                      -0.843762   \n",
       "1                          0.922938                       2.591197   \n",
       "2                          0.166003                      -0.494141   \n",
       "3                         -0.235905                       1.128214   \n",
       "4                         -0.700903                      -0.921484   \n",
       "\n",
       "   numerical_pipeline__mean smoothness  numerical_pipeline__mean compactness  \\\n",
       "0                            -0.268268                             -0.838912   \n",
       "1                             0.326972                              0.236627   \n",
       "2                            -1.744514                             -1.098527   \n",
       "3                             0.830585                              0.596335   \n",
       "4                             0.743662                             -0.632877   \n",
       "\n",
       "   numerical_pipeline__mean concavity  numerical_pipeline__mean symmetry  \\\n",
       "0                           -0.828622                          -0.630615   \n",
       "1                            1.276580                          -0.138297   \n",
       "2                           -1.035719                          -0.457581   \n",
       "3                            1.475565                          -0.043805   \n",
       "4                           -0.884993                          -0.453820   \n",
       "\n",
       "   numerical_pipeline__mean fractal dimension  \\\n",
       "0                                   -0.217231   \n",
       "1                                   -1.072114   \n",
       "2                                   -0.539607   \n",
       "3                                   -0.214366   \n",
       "4                                    0.108010   \n",
       "\n",
       "   numerical_pipeline__texture error  numerical_pipeline__perimeter error  \\\n",
       "0                          -1.359588                            -0.930287   \n",
       "1                          -0.578906                             1.227488   \n",
       "2                           0.401487                            -0.397163   \n",
       "3                           0.288408                             0.171705   \n",
       "4                           0.251875                            -0.826103   \n",
       "\n",
       "   numerical_pipeline__smoothness error  \\\n",
       "0                             -0.320810   \n",
       "1                             -0.338919   \n",
       "2                              0.292090   \n",
       "3                             -0.582388   \n",
       "4                             -0.627608   \n",
       "\n",
       "   numerical_pipeline__compactness error  numerical_pipeline__concavity error  \\\n",
       "0                              -0.649737                            -0.621976   \n",
       "1                              -0.336012                            -0.012265   \n",
       "2                              -0.360902                            -0.677468   \n",
       "3                               0.070419                             0.257569   \n",
       "4                              -0.977508                            -0.768887   \n",
       "\n",
       "   numerical_pipeline__concave points error  \\\n",
       "0                                 -0.961981   \n",
       "1                                  0.161154   \n",
       "2                                 -1.100623   \n",
       "3                                 -0.141886   \n",
       "4                                 -0.803687   \n",
       "\n",
       "   numerical_pipeline__symmetry error  \\\n",
       "0                           -0.844049   \n",
       "1                           -0.561316   \n",
       "2                            0.030260   \n",
       "3                           -0.404538   \n",
       "4                           -0.403360   \n",
       "\n",
       "   numerical_pipeline__fractal dimension error  \\\n",
       "0                                    -0.634506   \n",
       "1                                    -0.231943   \n",
       "2                                    -0.444518   \n",
       "3                                    -0.248773   \n",
       "4                                    -0.637577   \n",
       "\n",
       "   numerical_pipeline__worst smoothness  \\\n",
       "0                              0.878031   \n",
       "1                              0.459369   \n",
       "2                             -0.994411   \n",
       "3                              0.729977   \n",
       "4                              0.098572   \n",
       "\n",
       "   numerical_pipeline__worst compactness  numerical_pipeline__worst concavity  \\\n",
       "0                              -0.249855                            -0.466684   \n",
       "1                               0.047006                             0.725469   \n",
       "2                              -0.703270                            -1.095577   \n",
       "3                               0.563732                             1.343236   \n",
       "4                              -0.803216                            -0.955277   \n",
       "\n",
       "   numerical_pipeline__worst symmetry  \\\n",
       "0                            0.079158   \n",
       "1                           -0.253478   \n",
       "2                           -0.457654   \n",
       "3                            0.487069   \n",
       "4                            0.049788   \n",
       "\n",
       "   numerical_pipeline__worst fractal dimension  \n",
       "0                                    -0.009074  \n",
       "1                                    -0.260552  \n",
       "2                                    -0.599202  \n",
       "3                                     0.253085  \n",
       "4                                    -0.355383  "
      ]
     },
     "execution_count": 14,
     "metadata": {},
     "output_type": "execute_result"
    }
   ],
   "source": [
    "X_train.head()"
   ]
  },
  {
   "cell_type": "code",
   "execution_count": 15,
   "metadata": {},
   "outputs": [
    {
     "data": {
      "text/html": [
       "<style>#sk-container-id-1 {color: black;}#sk-container-id-1 pre{padding: 0;}#sk-container-id-1 div.sk-toggleable {background-color: white;}#sk-container-id-1 label.sk-toggleable__label {cursor: pointer;display: block;width: 100%;margin-bottom: 0;padding: 0.3em;box-sizing: border-box;text-align: center;}#sk-container-id-1 label.sk-toggleable__label-arrow:before {content: \"▸\";float: left;margin-right: 0.25em;color: #696969;}#sk-container-id-1 label.sk-toggleable__label-arrow:hover:before {color: black;}#sk-container-id-1 div.sk-estimator:hover label.sk-toggleable__label-arrow:before {color: black;}#sk-container-id-1 div.sk-toggleable__content {max-height: 0;max-width: 0;overflow: hidden;text-align: left;background-color: #f0f8ff;}#sk-container-id-1 div.sk-toggleable__content pre {margin: 0.2em;color: black;border-radius: 0.25em;background-color: #f0f8ff;}#sk-container-id-1 input.sk-toggleable__control:checked~div.sk-toggleable__content {max-height: 200px;max-width: 100%;overflow: auto;}#sk-container-id-1 input.sk-toggleable__control:checked~label.sk-toggleable__label-arrow:before {content: \"▾\";}#sk-container-id-1 div.sk-estimator input.sk-toggleable__control:checked~label.sk-toggleable__label {background-color: #d4ebff;}#sk-container-id-1 div.sk-label input.sk-toggleable__control:checked~label.sk-toggleable__label {background-color: #d4ebff;}#sk-container-id-1 input.sk-hidden--visually {border: 0;clip: rect(1px 1px 1px 1px);clip: rect(1px, 1px, 1px, 1px);height: 1px;margin: -1px;overflow: hidden;padding: 0;position: absolute;width: 1px;}#sk-container-id-1 div.sk-estimator {font-family: monospace;background-color: #f0f8ff;border: 1px dotted black;border-radius: 0.25em;box-sizing: border-box;margin-bottom: 0.5em;}#sk-container-id-1 div.sk-estimator:hover {background-color: #d4ebff;}#sk-container-id-1 div.sk-parallel-item::after {content: \"\";width: 100%;border-bottom: 1px solid gray;flex-grow: 1;}#sk-container-id-1 div.sk-label:hover label.sk-toggleable__label {background-color: #d4ebff;}#sk-container-id-1 div.sk-serial::before {content: \"\";position: absolute;border-left: 1px solid gray;box-sizing: border-box;top: 0;bottom: 0;left: 50%;z-index: 0;}#sk-container-id-1 div.sk-serial {display: flex;flex-direction: column;align-items: center;background-color: white;padding-right: 0.2em;padding-left: 0.2em;position: relative;}#sk-container-id-1 div.sk-item {position: relative;z-index: 1;}#sk-container-id-1 div.sk-parallel {display: flex;align-items: stretch;justify-content: center;background-color: white;position: relative;}#sk-container-id-1 div.sk-item::before, #sk-container-id-1 div.sk-parallel-item::before {content: \"\";position: absolute;border-left: 1px solid gray;box-sizing: border-box;top: 0;bottom: 0;left: 50%;z-index: -1;}#sk-container-id-1 div.sk-parallel-item {display: flex;flex-direction: column;z-index: 1;position: relative;background-color: white;}#sk-container-id-1 div.sk-parallel-item:first-child::after {align-self: flex-end;width: 50%;}#sk-container-id-1 div.sk-parallel-item:last-child::after {align-self: flex-start;width: 50%;}#sk-container-id-1 div.sk-parallel-item:only-child::after {width: 0;}#sk-container-id-1 div.sk-dashed-wrapped {border: 1px dashed gray;margin: 0 0.4em 0.5em 0.4em;box-sizing: border-box;padding-bottom: 0.4em;background-color: white;}#sk-container-id-1 div.sk-label label {font-family: monospace;font-weight: bold;display: inline-block;line-height: 1.2em;}#sk-container-id-1 div.sk-label-container {text-align: center;}#sk-container-id-1 div.sk-container {/* jupyter's `normalize.less` sets `[hidden] { display: none; }` but bootstrap.min.css set `[hidden] { display: none !important; }` so we also need the `!important` here to be able to override the default hidden behavior on the sphinx rendered scikit-learn.org. See: https://github.com/scikit-learn/scikit-learn/issues/21755 */display: inline-block !important;position: relative;}#sk-container-id-1 div.sk-text-repr-fallback {display: none;}</style><div id=\"sk-container-id-1\" class=\"sk-top-container\"><div class=\"sk-text-repr-fallback\"><pre>PCA(n_components=20)</pre><b>In a Jupyter environment, please rerun this cell to show the HTML representation or trust the notebook. <br />On GitHub, the HTML representation is unable to render, please try loading this page with nbviewer.org.</b></div><div class=\"sk-container\" hidden><div class=\"sk-item\"><div class=\"sk-estimator sk-toggleable\"><input class=\"sk-toggleable__control sk-hidden--visually\" id=\"sk-estimator-id-1\" type=\"checkbox\" checked><label for=\"sk-estimator-id-1\" class=\"sk-toggleable__label sk-toggleable__label-arrow\">PCA</label><div class=\"sk-toggleable__content\"><pre>PCA(n_components=20)</pre></div></div></div></div></div>"
      ],
      "text/plain": [
       "PCA(n_components=20)"
      ]
     },
     "execution_count": 15,
     "metadata": {},
     "output_type": "execute_result"
    }
   ],
   "source": [
    "from sklearn.decomposition import PCA\n",
    "covar_matrix = PCA(n_components=X_train.shape[1])\n",
    "covar_matrix.fit(X_train)"
   ]
  },
  {
   "cell_type": "code",
   "execution_count": 16,
   "metadata": {},
   "outputs": [
    {
     "data": {
      "image/png": "[encoded data removed]",
      "text/plain": [
       "<Figure size 640x480 with 1 Axes>"
      ]
     },
     "metadata": {},
     "output_type": "display_data"
    }
   ],
   "source": [
    "import matplotlib.pyplot as plt\n",
    "plt.style.use(\"ggplot\") \n",
    "plt.ylabel('Eigenvalues')\n",
    "plt.xlabel('# of feautres')\n",
    "plt.ylim(0,max(covar_matrix.explained_variance_))\n",
    "plt.axhline(y=1,color = 'r' , linestyle = '--')\n",
    "plt.plot(covar_matrix.explained_variance_)\n",
    "plt.show()"
   ]
  },
  {
   "cell_type": "code",
   "execution_count": 17,
   "metadata": {},
   "outputs": [],
   "source": [
    "pca = PCA(n_components=5)\n",
    "X_train = pca.fit_transform(X_train)\n",
    "X_test = pca.transform(X_test)"
   ]
  },
  {
   "cell_type": "code",
   "execution_count": 18,
   "metadata": {},
   "outputs": [
    {
     "data": {
      "text/plain": [
       "array([43.92437473, 12.98106585, 12.41663669,  6.61450277,  6.15102121])"
      ]
     },
     "execution_count": 18,
     "metadata": {},
     "output_type": "execute_result"
    }
   ],
   "source": [
    "pca.explained_variance_ratio_*100"
   ]
  },
  {
   "cell_type": "code",
   "execution_count": 19,
   "metadata": {},
   "outputs": [],
   "source": [
    "from sklearn.linear_model import LogisticRegression\n",
    "from sklearn.linear_model import RidgeClassifier\n",
    "from sklearn.naive_bayes import BernoulliNB\n",
    "from sklearn.tree import DecisionTreeClassifier\n",
    "from sklearn.neighbors import KNeighborsClassifier\n",
    "from sklearn.ensemble import AdaBoostClassifier\n",
    "from sklearn.ensemble import GradientBoostingClassifier\n",
    "from sklearn.ensemble import BaggingClassifier\n",
    "from sklearn.ensemble import RandomForestClassifier\n",
    "from sklearn.svm import SVC\n",
    "from xgboost import XGBClassifier\n",
    "from sklearn.metrics import  accuracy_score , roc_auc_score , f1_score"
   ]
  },
  {
   "cell_type": "code",
   "execution_count": 20,
   "metadata": {},
   "outputs": [],
   "source": [
    "# a function to evaluate the model\n",
    "def evaluate_model(true, predicted):\n",
    "    accuracy = accuracy_score(true, predicted)\n",
    "    roc_score = roc_auc_score(true, predicted)\n",
    "    f_1_score = f1_score(true, predicted)\n",
    "\n",
    "    return accuracy , roc_score , f_1_score"
   ]
  },
  {
   "cell_type": "code",
   "execution_count": 21,
   "metadata": {},
   "outputs": [
    {
     "name": "stdout",
     "output_type": "stream",
     "text": [
      "LogisticRegression\n",
      "Model Training Performance\n",
      "ROC: 0.9655825242718447\n",
      "Accuracy: 0.9655172413793104\n",
      "===================================\n",
      "\n",
      "\n",
      "RidgeClassifier\n",
      "Model Training Performance\n",
      "ROC: 0.9304368932038835\n",
      "Accuracy: 0.9310344827586207\n",
      "===================================\n",
      "\n",
      "\n",
      "BernoulliNB\n",
      "Model Training Performance\n",
      "ROC: 0.8721844660194176\n",
      "Accuracy: 0.8719211822660099\n",
      "===================================\n",
      "\n",
      "\n",
      "DecisionTreeClassifier\n",
      "Model Training Performance\n",
      "ROC: 0.926747572815534\n",
      "Accuracy: 0.9261083743842364\n",
      "===================================\n",
      "\n",
      "\n",
      "KNeighborsClassifier\n",
      "Model Training Performance\n",
      "ROC: 0.9507281553398058\n",
      "Accuracy: 0.9507389162561576\n",
      "===================================\n",
      "\n",
      "\n",
      "AdaBoostClassifier\n",
      "Model Training Performance\n",
      "ROC: 0.955873786407767\n",
      "Accuracy: 0.9556650246305419\n",
      "===================================\n",
      "\n",
      "\n",
      "GradientBoostingClassifier\n",
      "Model Training Performance\n",
      "ROC: 0.950873786407767\n",
      "Accuracy: 0.9507389162561576\n",
      "===================================\n",
      "\n",
      "\n",
      "BaggingClassifier\n",
      "Model Training Performance\n",
      "ROC: 0.9213106796116505\n",
      "Accuracy: 0.9211822660098522\n",
      "===================================\n",
      "\n",
      "\n",
      "RandomForestClassifier\n",
      "Model Training Performance\n",
      "ROC: 0.950873786407767\n",
      "Accuracy: 0.9507389162561576\n",
      "===================================\n",
      "\n",
      "\n",
      "SVC\n",
      "Model Training Performance\n",
      "ROC: 0.9408737864077669\n",
      "Accuracy: 0.9408866995073891\n",
      "===================================\n",
      "\n",
      "\n",
      "XGBClassifier\n",
      "Model Training Performance\n",
      "ROC: 0.950873786407767\n",
      "Accuracy: 0.9507389162561576\n",
      "===================================\n",
      "\n",
      "\n",
      "Best Model ('LogisticRegression', 0.9655172413793104)\n",
      "LogisticRegression()\n",
      "                        models  accuracy  roc_auc_score  f1_score\n",
      "0           LogisticRegression  0.965517       0.965583  0.965854\n",
      "5           AdaBoostClassifier  0.955665       0.955874  0.955665\n",
      "4         KNeighborsClassifier  0.950739       0.950728  0.951456\n",
      "6   GradientBoostingClassifier  0.950739       0.950874  0.950980\n",
      "8       RandomForestClassifier  0.950739       0.950874  0.950980\n",
      "10               XGBClassifier  0.950739       0.950874  0.950980\n",
      "9                          SVC  0.940887       0.940874  0.941748\n",
      "1              RidgeClassifier  0.931034       0.930437  0.934579\n",
      "3       DecisionTreeClassifier  0.926108       0.926748  0.923858\n",
      "7            BaggingClassifier  0.921182       0.921311  0.921569\n",
      "2                  BernoulliNB  0.871921       0.872184  0.871287\n"
     ]
    }
   ],
   "source": [
    "models={\n",
    "    'LogisticRegression':LogisticRegression(),\n",
    "    'RidgeClassifier':RidgeClassifier(),\n",
    "    'BernoulliNB':BernoulliNB(),\n",
    "    'DecisionTreeClassifier':DecisionTreeClassifier(),\n",
    "    'KNeighborsClassifier':KNeighborsClassifier(),\n",
    "    'AdaBoostClassifier':AdaBoostClassifier(),\n",
    "    'GradientBoostingClassifier':GradientBoostingClassifier(),\n",
    "    'BaggingClassifier':BaggingClassifier(),\n",
    "    'RandomForestClassifier':RandomForestClassifier(),\n",
    "    'SVC':SVC(),\n",
    "    'XGBClassifier':XGBClassifier()\n",
    "}\n",
    "model_list=[]\n",
    "roc=[]\n",
    "acc = []\n",
    "f1 = []\n",
    "performance = []\n",
    "for i in range(len(list(models))):\n",
    "    model=list(models.values())[i]\n",
    "    model.fit(X_train,y_train)\n",
    "\n",
    "    #Make Predictions\n",
    "    y_pred=model.predict(X_test)\n",
    "\n",
    "    accuracy , roc_score  , f_1_score =evaluate_model(y_test,y_pred)\n",
    "\n",
    "    print(list(models.keys())[i])\n",
    "    model_list.append(list(models.keys())[i])\n",
    "    roc.append(roc_score)\n",
    "    acc.append(accuracy)\n",
    "    f1.append(f_1_score)\n",
    "    performance.append((list(models.keys())[i] , accuracy ))\n",
    "\n",
    "\n",
    "    print('Model Training Performance')\n",
    "    print(\"ROC:\",roc_score)\n",
    "    print(\"Accuracy:\",accuracy)\n",
    "\n",
    "    \n",
    "    print('='*35)\n",
    "    print('\\n')\n",
    "\n",
    "print(\"Best Model\" , sorted(performance , key = lambda x: x[1])[-1])\n",
    "model = models[sorted(performance , key = lambda x: x[1])[-1][0]]\n",
    "print(model)\n",
    "\n",
    "metrics = pd.DataFrame({\"models\": model_list , \"accuracy\" : acc , \"roc_auc_score\": roc , \"f1_score\" : f1})\n",
    "print(metrics.sort_values('accuracy',ascending=False))\n"
   ]
  },
  {
   "cell_type": "code",
   "execution_count": null,
   "metadata": {},
   "outputs": [],
   "source": []
  }
 ],
 "metadata": {
  "kernelspec": {
   "display_name": "Python 3",
   "language": "python",
   "name": "python3"
  },
  "language_info": {
   "codemirror_mode": {
    "name": "ipython",
    "version": 3
   },
   "file_extension": ".py",
   "mimetype": "text/x-python",
   "name": "python",
   "nbconvert_exporter": "python",
   "pygments_lexer": "ipython3",
   "version": "3.8.0"
  },
  "orig_nbformat": 4
 },
 "nbformat": 4,
 "nbformat_minor": 2
}
