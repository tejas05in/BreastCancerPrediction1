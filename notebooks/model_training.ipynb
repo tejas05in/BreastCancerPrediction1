{
 "cells": [
  {
   "cell_type": "code",
   "execution_count": 1,
   "metadata": {},
   "outputs": [],
   "source": [
    "import pandas as pd"
   ]
  },
  {
   "cell_type": "code",
   "execution_count": 2,
   "metadata": {},
   "outputs": [],
   "source": [
    "df = pd.read_csv('./data/breast_cancer.csv')"
   ]
  },
  {
   "cell_type": "code",
   "execution_count": 3,
   "metadata": {},
   "outputs": [],
   "source": [
    "#highly correlated columns to remove\n",
    "to_drop = ['worst radius', 'worst texture', 'worst perimeter', 'worst area','worst concave points','mean concave points','radius error','area error','mean radius','mean perimeter']\n",
    "df.drop(to_drop,axis=1,inplace=True)"
   ]
  },
  {
   "cell_type": "code",
   "execution_count": 4,
   "metadata": {},
   "outputs": [],
   "source": [
    "## Independent and dependent features\n",
    "X = df.drop('target',axis=1)\n",
    "y = df['target']"
   ]
  },
  {
   "cell_type": "code",
   "execution_count": 5,
   "metadata": {},
   "outputs": [
    {
     "data": {
      "text/plain": [
       "0      0\n",
       "1      0\n",
       "2      0\n",
       "3      0\n",
       "4      0\n",
       "      ..\n",
       "564    1\n",
       "565    0\n",
       "566    1\n",
       "567    1\n",
       "568    0\n",
       "Name: target, Length: 569, dtype: int64"
      ]
     },
     "execution_count": 5,
     "metadata": {},
     "output_type": "execute_result"
    }
   ],
   "source": [
    "y"
   ]
  },
  {
   "cell_type": "code",
   "execution_count": 6,
   "metadata": {},
   "outputs": [],
   "source": [
    "#rectifying target imbalance\n",
    "from imblearn.combine import SMOTETomek\n",
    "\n",
    "resampler = SMOTETomek(sampling_strategy=\"auto\")\n",
    "X , y = resampler.fit_resample(X, y)"
   ]
  },
  {
   "cell_type": "code",
   "execution_count": 7,
   "metadata": {},
   "outputs": [
    {
     "data": {
      "text/plain": [
       "((340, 20), (340, 20))"
      ]
     },
     "execution_count": 7,
     "metadata": {},
     "output_type": "execute_result"
    }
   ],
   "source": [
    "X[y==1].shape , X[y==0].shape"
   ]
  },
  {
   "cell_type": "code",
   "execution_count": 8,
   "metadata": {},
   "outputs": [
    {
     "data": {
      "text/plain": [
       "Index(['mean texture', 'mean area', 'mean smoothness', 'mean compactness',\n",
       "       'mean concavity', 'mean symmetry', 'mean fractal dimension',\n",
       "       'texture error', 'perimeter error', 'smoothness error',\n",
       "       'compactness error', 'concavity error', 'concave points error',\n",
       "       'symmetry error', 'fractal dimension error', 'worst smoothness',\n",
       "       'worst compactness', 'worst concavity', 'worst symmetry',\n",
       "       'worst fractal dimension'],\n",
       "      dtype='object')"
      ]
     },
     "execution_count": 8,
     "metadata": {},
     "output_type": "execute_result"
    }
   ],
   "source": [
    "#All features in X are numerical in nature\n",
    "numerical_cols = X.columns\n",
    "numerical_cols"
   ]
  },
  {
   "cell_type": "code",
   "execution_count": 9,
   "metadata": {},
   "outputs": [],
   "source": [
    "# since all the features are only numerical in nature creating only numerical pipeline\n",
    "from sklearn.impute import SimpleImputer ## HAndling Missing Values\n",
    "from sklearn.preprocessing import StandardScaler # HAndling Feature Scaling\n",
    "## pipelines\n",
    "from sklearn.pipeline import Pipeline\n",
    "from sklearn.compose import ColumnTransformer"
   ]
  },
  {
   "cell_type": "code",
   "execution_count": 10,
   "metadata": {},
   "outputs": [],
   "source": [
    "numerical_pipeline = Pipeline(\n",
    "    steps=[\n",
    "        ('imputer',SimpleImputer(strategy='median')),\n",
    "        ('scaler', StandardScaler())\n",
    "    ]\n",
    ")\n",
    "\n",
    "preprocessor = ColumnTransformer([\n",
    "    ('numerical_pipeline',numerical_pipeline , numerical_cols)\n",
    "])"
   ]
  },
  {
   "cell_type": "code",
   "execution_count": 11,
   "metadata": {},
   "outputs": [],
   "source": [
    "## Train test split\n",
    "\n",
    "from sklearn.model_selection import train_test_split\n",
    "\n",
    "X_train,X_test,y_train,y_test=train_test_split(X,y,test_size=0.30,random_state=30)"
   ]
  },
  {
   "cell_type": "code",
   "execution_count": 12,
   "metadata": {},
   "outputs": [],
   "source": [
    "X_train=pd.DataFrame(preprocessor.fit_transform(X_train),columns=preprocessor.get_feature_names_out())\n",
    "X_test=pd.DataFrame(preprocessor.transform(X_test),columns=preprocessor.get_feature_names_out())"
   ]
  },
  {
   "cell_type": "code",
   "execution_count": 13,
   "metadata": {},
   "outputs": [
    {
     "data": {
      "text/plain": [
       "((476, 20), (204, 20))"
      ]
     },
     "execution_count": 13,
     "metadata": {},
     "output_type": "execute_result"
    }
   ],
   "source": [
    "X_train.shape , X_test.shape"
   ]
  },
  {
   "cell_type": "code",
   "execution_count": 14,
   "metadata": {},
   "outputs": [
    {
     "data": {
      "text/html": [
       "<div>\n",
       "<style scoped>\n",
       "    .dataframe tbody tr th:only-of-type {\n",
       "        vertical-align: middle;\n",
       "    }\n",
       "\n",
       "    .dataframe tbody tr th {\n",
       "        vertical-align: top;\n",
       "    }\n",
       "\n",
       "    .dataframe thead th {\n",
       "        text-align: right;\n",
       "    }\n",
       "</style>\n",
       "<table border=\"1\" class=\"dataframe\">\n",
       "  <thead>\n",
       "    <tr style=\"text-align: right;\">\n",
       "      <th></th>\n",
       "      <th>numerical_pipeline__mean texture</th>\n",
       "      <th>numerical_pipeline__mean area</th>\n",
       "      <th>numerical_pipeline__mean smoothness</th>\n",
       "      <th>numerical_pipeline__mean compactness</th>\n",
       "      <th>numerical_pipeline__mean concavity</th>\n",
       "      <th>numerical_pipeline__mean symmetry</th>\n",
       "      <th>numerical_pipeline__mean fractal dimension</th>\n",
       "      <th>numerical_pipeline__texture error</th>\n",
       "      <th>numerical_pipeline__perimeter error</th>\n",
       "      <th>numerical_pipeline__smoothness error</th>\n",
       "      <th>numerical_pipeline__compactness error</th>\n",
       "      <th>numerical_pipeline__concavity error</th>\n",
       "      <th>numerical_pipeline__concave points error</th>\n",
       "      <th>numerical_pipeline__symmetry error</th>\n",
       "      <th>numerical_pipeline__fractal dimension error</th>\n",
       "      <th>numerical_pipeline__worst smoothness</th>\n",
       "      <th>numerical_pipeline__worst compactness</th>\n",
       "      <th>numerical_pipeline__worst concavity</th>\n",
       "      <th>numerical_pipeline__worst symmetry</th>\n",
       "      <th>numerical_pipeline__worst fractal dimension</th>\n",
       "    </tr>\n",
       "  </thead>\n",
       "  <tbody>\n",
       "    <tr>\n",
       "      <th>0</th>\n",
       "      <td>-2.101730</td>\n",
       "      <td>-0.214386</td>\n",
       "      <td>0.884424</td>\n",
       "      <td>-0.014630</td>\n",
       "      <td>-0.164745</td>\n",
       "      <td>0.087395</td>\n",
       "      <td>0.178019</td>\n",
       "      <td>-0.670470</td>\n",
       "      <td>-0.597951</td>\n",
       "      <td>-1.071332</td>\n",
       "      <td>-0.782494</td>\n",
       "      <td>-0.153796</td>\n",
       "      <td>-0.048593</td>\n",
       "      <td>-0.135253</td>\n",
       "      <td>-0.399680</td>\n",
       "      <td>-0.150709</td>\n",
       "      <td>-0.582651</td>\n",
       "      <td>-0.212817</td>\n",
       "      <td>-0.060344</td>\n",
       "      <td>-0.280087</td>\n",
       "    </tr>\n",
       "    <tr>\n",
       "      <th>1</th>\n",
       "      <td>1.314436</td>\n",
       "      <td>-0.018389</td>\n",
       "      <td>0.201989</td>\n",
       "      <td>-0.217767</td>\n",
       "      <td>0.114230</td>\n",
       "      <td>-0.624785</td>\n",
       "      <td>0.232707</td>\n",
       "      <td>0.236984</td>\n",
       "      <td>0.247917</td>\n",
       "      <td>0.724560</td>\n",
       "      <td>-0.199041</td>\n",
       "      <td>0.344248</td>\n",
       "      <td>0.542307</td>\n",
       "      <td>-0.068428</td>\n",
       "      <td>0.282150</td>\n",
       "      <td>1.100583</td>\n",
       "      <td>-0.113139</td>\n",
       "      <td>0.448202</td>\n",
       "      <td>-0.309504</td>\n",
       "      <td>0.563665</td>\n",
       "    </tr>\n",
       "    <tr>\n",
       "      <th>2</th>\n",
       "      <td>2.635305</td>\n",
       "      <td>-0.432857</td>\n",
       "      <td>-0.363544</td>\n",
       "      <td>-0.674533</td>\n",
       "      <td>-0.877544</td>\n",
       "      <td>-1.662122</td>\n",
       "      <td>-0.381203</td>\n",
       "      <td>1.337072</td>\n",
       "      <td>-0.427267</td>\n",
       "      <td>-0.411875</td>\n",
       "      <td>-0.800281</td>\n",
       "      <td>-0.841565</td>\n",
       "      <td>-0.523847</td>\n",
       "      <td>-0.566605</td>\n",
       "      <td>-0.327881</td>\n",
       "      <td>-0.763802</td>\n",
       "      <td>-0.820791</td>\n",
       "      <td>-1.088899</td>\n",
       "      <td>-1.218821</td>\n",
       "      <td>-0.467890</td>\n",
       "    </tr>\n",
       "    <tr>\n",
       "      <th>3</th>\n",
       "      <td>-0.295781</td>\n",
       "      <td>-0.824798</td>\n",
       "      <td>-0.292838</td>\n",
       "      <td>-0.940234</td>\n",
       "      <td>-0.898965</td>\n",
       "      <td>0.007375</td>\n",
       "      <td>-0.500001</td>\n",
       "      <td>-0.696999</td>\n",
       "      <td>-0.238516</td>\n",
       "      <td>-0.236172</td>\n",
       "      <td>-0.907594</td>\n",
       "      <td>-0.692906</td>\n",
       "      <td>-0.516070</td>\n",
       "      <td>0.340980</td>\n",
       "      <td>-0.946077</td>\n",
       "      <td>-0.715972</td>\n",
       "      <td>-1.062174</td>\n",
       "      <td>-1.036985</td>\n",
       "      <td>-0.309425</td>\n",
       "      <td>-1.141938</td>\n",
       "    </tr>\n",
       "    <tr>\n",
       "      <th>4</th>\n",
       "      <td>-2.383611</td>\n",
       "      <td>-0.955096</td>\n",
       "      <td>-0.116779</td>\n",
       "      <td>-0.987449</td>\n",
       "      <td>-0.911628</td>\n",
       "      <td>-1.640298</td>\n",
       "      <td>0.175121</td>\n",
       "      <td>-1.518266</td>\n",
       "      <td>-0.979256</td>\n",
       "      <td>0.229652</td>\n",
       "      <td>-0.957041</td>\n",
       "      <td>-0.740988</td>\n",
       "      <td>-1.150018</td>\n",
       "      <td>-0.953077</td>\n",
       "      <td>-0.678760</td>\n",
       "      <td>0.384118</td>\n",
       "      <td>-0.927207</td>\n",
       "      <td>-0.925573</td>\n",
       "      <td>-1.396019</td>\n",
       "      <td>-0.454273</td>\n",
       "    </tr>\n",
       "  </tbody>\n",
       "</table>\n",
       "</div>"
      ],
      "text/plain": [
       "   numerical_pipeline__mean texture  numerical_pipeline__mean area  \\\n",
       "0                         -2.101730                      -0.214386   \n",
       "1                          1.314436                      -0.018389   \n",
       "2                          2.635305                      -0.432857   \n",
       "3                         -0.295781                      -0.824798   \n",
       "4                         -2.383611                      -0.955096   \n",
       "\n",
       "   numerical_pipeline__mean smoothness  numerical_pipeline__mean compactness  \\\n",
       "0                             0.884424                             -0.014630   \n",
       "1                             0.201989                             -0.217767   \n",
       "2                            -0.363544                             -0.674533   \n",
       "3                            -0.292838                             -0.940234   \n",
       "4                            -0.116779                             -0.987449   \n",
       "\n",
       "   numerical_pipeline__mean concavity  numerical_pipeline__mean symmetry  \\\n",
       "0                           -0.164745                           0.087395   \n",
       "1                            0.114230                          -0.624785   \n",
       "2                           -0.877544                          -1.662122   \n",
       "3                           -0.898965                           0.007375   \n",
       "4                           -0.911628                          -1.640298   \n",
       "\n",
       "   numerical_pipeline__mean fractal dimension  \\\n",
       "0                                    0.178019   \n",
       "1                                    0.232707   \n",
       "2                                   -0.381203   \n",
       "3                                   -0.500001   \n",
       "4                                    0.175121   \n",
       "\n",
       "   numerical_pipeline__texture error  numerical_pipeline__perimeter error  \\\n",
       "0                          -0.670470                            -0.597951   \n",
       "1                           0.236984                             0.247917   \n",
       "2                           1.337072                            -0.427267   \n",
       "3                          -0.696999                            -0.238516   \n",
       "4                          -1.518266                            -0.979256   \n",
       "\n",
       "   numerical_pipeline__smoothness error  \\\n",
       "0                             -1.071332   \n",
       "1                              0.724560   \n",
       "2                             -0.411875   \n",
       "3                             -0.236172   \n",
       "4                              0.229652   \n",
       "\n",
       "   numerical_pipeline__compactness error  numerical_pipeline__concavity error  \\\n",
       "0                              -0.782494                            -0.153796   \n",
       "1                              -0.199041                             0.344248   \n",
       "2                              -0.800281                            -0.841565   \n",
       "3                              -0.907594                            -0.692906   \n",
       "4                              -0.957041                            -0.740988   \n",
       "\n",
       "   numerical_pipeline__concave points error  \\\n",
       "0                                 -0.048593   \n",
       "1                                  0.542307   \n",
       "2                                 -0.523847   \n",
       "3                                 -0.516070   \n",
       "4                                 -1.150018   \n",
       "\n",
       "   numerical_pipeline__symmetry error  \\\n",
       "0                           -0.135253   \n",
       "1                           -0.068428   \n",
       "2                           -0.566605   \n",
       "3                            0.340980   \n",
       "4                           -0.953077   \n",
       "\n",
       "   numerical_pipeline__fractal dimension error  \\\n",
       "0                                    -0.399680   \n",
       "1                                     0.282150   \n",
       "2                                    -0.327881   \n",
       "3                                    -0.946077   \n",
       "4                                    -0.678760   \n",
       "\n",
       "   numerical_pipeline__worst smoothness  \\\n",
       "0                             -0.150709   \n",
       "1                              1.100583   \n",
       "2                             -0.763802   \n",
       "3                             -0.715972   \n",
       "4                              0.384118   \n",
       "\n",
       "   numerical_pipeline__worst compactness  numerical_pipeline__worst concavity  \\\n",
       "0                              -0.582651                            -0.212817   \n",
       "1                              -0.113139                             0.448202   \n",
       "2                              -0.820791                            -1.088899   \n",
       "3                              -1.062174                            -1.036985   \n",
       "4                              -0.927207                            -0.925573   \n",
       "\n",
       "   numerical_pipeline__worst symmetry  \\\n",
       "0                           -0.060344   \n",
       "1                           -0.309504   \n",
       "2                           -1.218821   \n",
       "3                           -0.309425   \n",
       "4                           -1.396019   \n",
       "\n",
       "   numerical_pipeline__worst fractal dimension  \n",
       "0                                    -0.280087  \n",
       "1                                     0.563665  \n",
       "2                                    -0.467890  \n",
       "3                                    -1.141938  \n",
       "4                                    -0.454273  "
      ]
     },
     "execution_count": 14,
     "metadata": {},
     "output_type": "execute_result"
    }
   ],
   "source": [
    "X_train.head()"
   ]
  },
  {
   "cell_type": "code",
   "execution_count": 15,
   "metadata": {},
   "outputs": [
    {
     "data": {
      "text/html": [
       "<style>#sk-container-id-1 {color: black;}#sk-container-id-1 pre{padding: 0;}#sk-container-id-1 div.sk-toggleable {background-color: white;}#sk-container-id-1 label.sk-toggleable__label {cursor: pointer;display: block;width: 100%;margin-bottom: 0;padding: 0.3em;box-sizing: border-box;text-align: center;}#sk-container-id-1 label.sk-toggleable__label-arrow:before {content: \"▸\";float: left;margin-right: 0.25em;color: #696969;}#sk-container-id-1 label.sk-toggleable__label-arrow:hover:before {color: black;}#sk-container-id-1 div.sk-estimator:hover label.sk-toggleable__label-arrow:before {color: black;}#sk-container-id-1 div.sk-toggleable__content {max-height: 0;max-width: 0;overflow: hidden;text-align: left;background-color: #f0f8ff;}#sk-container-id-1 div.sk-toggleable__content pre {margin: 0.2em;color: black;border-radius: 0.25em;background-color: #f0f8ff;}#sk-container-id-1 input.sk-toggleable__control:checked~div.sk-toggleable__content {max-height: 200px;max-width: 100%;overflow: auto;}#sk-container-id-1 input.sk-toggleable__control:checked~label.sk-toggleable__label-arrow:before {content: \"▾\";}#sk-container-id-1 div.sk-estimator input.sk-toggleable__control:checked~label.sk-toggleable__label {background-color: #d4ebff;}#sk-container-id-1 div.sk-label input.sk-toggleable__control:checked~label.sk-toggleable__label {background-color: #d4ebff;}#sk-container-id-1 input.sk-hidden--visually {border: 0;clip: rect(1px 1px 1px 1px);clip: rect(1px, 1px, 1px, 1px);height: 1px;margin: -1px;overflow: hidden;padding: 0;position: absolute;width: 1px;}#sk-container-id-1 div.sk-estimator {font-family: monospace;background-color: #f0f8ff;border: 1px dotted black;border-radius: 0.25em;box-sizing: border-box;margin-bottom: 0.5em;}#sk-container-id-1 div.sk-estimator:hover {background-color: #d4ebff;}#sk-container-id-1 div.sk-parallel-item::after {content: \"\";width: 100%;border-bottom: 1px solid gray;flex-grow: 1;}#sk-container-id-1 div.sk-label:hover label.sk-toggleable__label {background-color: #d4ebff;}#sk-container-id-1 div.sk-serial::before {content: \"\";position: absolute;border-left: 1px solid gray;box-sizing: border-box;top: 0;bottom: 0;left: 50%;z-index: 0;}#sk-container-id-1 div.sk-serial {display: flex;flex-direction: column;align-items: center;background-color: white;padding-right: 0.2em;padding-left: 0.2em;position: relative;}#sk-container-id-1 div.sk-item {position: relative;z-index: 1;}#sk-container-id-1 div.sk-parallel {display: flex;align-items: stretch;justify-content: center;background-color: white;position: relative;}#sk-container-id-1 div.sk-item::before, #sk-container-id-1 div.sk-parallel-item::before {content: \"\";position: absolute;border-left: 1px solid gray;box-sizing: border-box;top: 0;bottom: 0;left: 50%;z-index: -1;}#sk-container-id-1 div.sk-parallel-item {display: flex;flex-direction: column;z-index: 1;position: relative;background-color: white;}#sk-container-id-1 div.sk-parallel-item:first-child::after {align-self: flex-end;width: 50%;}#sk-container-id-1 div.sk-parallel-item:last-child::after {align-self: flex-start;width: 50%;}#sk-container-id-1 div.sk-parallel-item:only-child::after {width: 0;}#sk-container-id-1 div.sk-dashed-wrapped {border: 1px dashed gray;margin: 0 0.4em 0.5em 0.4em;box-sizing: border-box;padding-bottom: 0.4em;background-color: white;}#sk-container-id-1 div.sk-label label {font-family: monospace;font-weight: bold;display: inline-block;line-height: 1.2em;}#sk-container-id-1 div.sk-label-container {text-align: center;}#sk-container-id-1 div.sk-container {/* jupyter's `normalize.less` sets `[hidden] { display: none; }` but bootstrap.min.css set `[hidden] { display: none !important; }` so we also need the `!important` here to be able to override the default hidden behavior on the sphinx rendered scikit-learn.org. See: https://github.com/scikit-learn/scikit-learn/issues/21755 */display: inline-block !important;position: relative;}#sk-container-id-1 div.sk-text-repr-fallback {display: none;}</style><div id=\"sk-container-id-1\" class=\"sk-top-container\"><div class=\"sk-text-repr-fallback\"><pre>PCA(n_components=20)</pre><b>In a Jupyter environment, please rerun this cell to show the HTML representation or trust the notebook. <br />On GitHub, the HTML representation is unable to render, please try loading this page with nbviewer.org.</b></div><div class=\"sk-container\" hidden><div class=\"sk-item\"><div class=\"sk-estimator sk-toggleable\"><input class=\"sk-toggleable__control sk-hidden--visually\" id=\"sk-estimator-id-1\" type=\"checkbox\" checked><label for=\"sk-estimator-id-1\" class=\"sk-toggleable__label sk-toggleable__label-arrow\">PCA</label><div class=\"sk-toggleable__content\"><pre>PCA(n_components=20)</pre></div></div></div></div></div>"
      ],
      "text/plain": [
       "PCA(n_components=20)"
      ]
     },
     "execution_count": 15,
     "metadata": {},
     "output_type": "execute_result"
    }
   ],
   "source": [
    "from sklearn.decomposition import PCA\n",
    "covar_matrix = PCA(n_components=X_train.shape[1])\n",
    "covar_matrix.fit(X_train)"
   ]
  },
  {
   "cell_type": "code",
   "execution_count": 16,
   "metadata": {},
   "outputs": [
    {
     "data": {
      "image/png": "[encoded data removed]",
      "text/plain": [
       "<Figure size 640x480 with 1 Axes>"
      ]
     },
     "metadata": {},
     "output_type": "display_data"
    }
   ],
   "source": [
    "import matplotlib.pyplot as plt\n",
    "plt.style.use(\"ggplot\") \n",
    "plt.ylabel('Eigenvalues')\n",
    "plt.xlabel('# of feautres')\n",
    "plt.ylim(0,max(covar_matrix.explained_variance_))\n",
    "plt.axhline(y=1,color = 'r' , linestyle = '--')\n",
    "plt.plot(covar_matrix.explained_variance_)\n",
    "plt.show()"
   ]
  },
  {
   "cell_type": "code",
   "execution_count": 17,
   "metadata": {},
   "outputs": [],
   "source": [
    "# pca = PCA(n_components=5)\n",
    "# X_train = pca.fit_transform(X_train)\n",
    "# X_test = pca.transform(X_test)"
   ]
  },
  {
   "cell_type": "code",
   "execution_count": 18,
   "metadata": {},
   "outputs": [],
   "source": [
    "# pca.explained_variance_ratio_*100"
   ]
  },
  {
   "cell_type": "code",
   "execution_count": 19,
   "metadata": {},
   "outputs": [],
   "source": [
    "from sklearn.linear_model import LogisticRegression\n",
    "from sklearn.linear_model import RidgeClassifier\n",
    "from sklearn.naive_bayes import BernoulliNB\n",
    "from sklearn.tree import DecisionTreeClassifier\n",
    "from sklearn.neighbors import KNeighborsClassifier\n",
    "from sklearn.ensemble import AdaBoostClassifier\n",
    "from sklearn.ensemble import GradientBoostingClassifier\n",
    "from sklearn.ensemble import BaggingClassifier\n",
    "from sklearn.ensemble import RandomForestClassifier\n",
    "from sklearn.svm import SVC\n",
    "from xgboost import XGBClassifier\n",
    "from sklearn.metrics import  accuracy_score , roc_auc_score , f1_score"
   ]
  },
  {
   "cell_type": "code",
   "execution_count": 20,
   "metadata": {},
   "outputs": [],
   "source": [
    "# a function to evaluate the model\n",
    "def evaluate_model(true, predicted):\n",
    "    accuracy = accuracy_score(true, predicted)\n",
    "    roc_score = roc_auc_score(true, predicted)\n",
    "    f_1_score = f1_score(true, predicted)\n",
    "\n",
    "    return accuracy , roc_score , f_1_score"
   ]
  },
  {
   "cell_type": "code",
   "execution_count": 21,
   "metadata": {},
   "outputs": [
    {
     "name": "stdout",
     "output_type": "stream",
     "text": [
      "LogisticRegression\n",
      "Model Training Performance\n",
      "ROC: 0.9821428571428572\n",
      "Accuracy: 0.9803921568627451\n",
      "===================================\n",
      "\n",
      "\n",
      "RidgeClassifier\n",
      "Model Training Performance\n",
      "ROC: 0.9802018633540373\n",
      "Accuracy: 0.9803921568627451\n",
      "===================================\n",
      "\n",
      "\n",
      "BernoulliNB\n",
      "Model Training Performance\n",
      "ROC: 0.8623835403726708\n",
      "Accuracy: 0.8627450980392157\n",
      "===================================\n",
      "\n",
      "\n",
      "DecisionTreeClassifier\n",
      "Model Training Performance\n",
      "ROC: 0.9351708074534161\n",
      "Accuracy: 0.9362745098039216\n",
      "===================================\n",
      "\n",
      "\n",
      "KNeighborsClassifier\n",
      "Model Training Performance\n",
      "ROC: 0.9505046583850932\n",
      "Accuracy: 0.9509803921568627\n",
      "===================================\n",
      "\n",
      "\n",
      "AdaBoostClassifier\n",
      "Model Training Performance\n",
      "ROC: 0.9811723602484472\n",
      "Accuracy: 0.9803921568627451\n",
      "===================================\n",
      "\n",
      "\n",
      "GradientBoostingClassifier\n",
      "Model Training Performance\n",
      "ROC: 0.9757375776397514\n",
      "Accuracy: 0.9754901960784313\n",
      "===================================\n",
      "\n",
      "\n",
      "BaggingClassifier\n",
      "Model Training Performance\n",
      "ROC: 0.9693322981366459\n",
      "Accuracy: 0.9705882352941176\n",
      "===================================\n",
      "\n",
      "\n",
      "RandomForestClassifier\n",
      "Model Training Performance\n",
      "ROC: 0.9638975155279502\n",
      "Accuracy: 0.9656862745098039\n",
      "===================================\n",
      "\n",
      "\n",
      "SVC\n",
      "Model Training Performance\n",
      "ROC: 0.9802018633540373\n",
      "Accuracy: 0.9803921568627451\n",
      "===================================\n",
      "\n",
      "\n",
      "XGBClassifier\n",
      "Model Training Performance\n",
      "ROC: 0.9757375776397514\n",
      "Accuracy: 0.9754901960784313\n",
      "===================================\n",
      "\n",
      "\n",
      "Best Model ('SVC', 0.9803921568627451)\n",
      "SVC()\n",
      "                        models  accuracy  roc_auc_score  f1_score\n",
      "0           LogisticRegression  0.980392       0.982143  0.978723\n",
      "1              RidgeClassifier  0.980392       0.980202  0.978261\n",
      "5           AdaBoostClassifier  0.980392       0.981172  0.978495\n",
      "9                          SVC  0.980392       0.980202  0.978261\n",
      "6   GradientBoostingClassifier  0.975490       0.975738  0.972973\n",
      "10               XGBClassifier  0.975490       0.975738  0.972973\n",
      "7            BaggingClassifier  0.970588       0.969332  0.967033\n",
      "8       RandomForestClassifier  0.965686       0.963898  0.961326\n",
      "4         KNeighborsClassifier  0.950980       0.950505  0.945652\n",
      "3       DecisionTreeClassifier  0.936275       0.935171  0.928962\n",
      "2                  BernoulliNB  0.862745       0.862384  0.849462\n"
     ]
    }
   ],
   "source": [
    "models={\n",
    "    'LogisticRegression':LogisticRegression(),\n",
    "    'RidgeClassifier':RidgeClassifier(),\n",
    "    'BernoulliNB':BernoulliNB(),\n",
    "    'DecisionTreeClassifier':DecisionTreeClassifier(),\n",
    "    'KNeighborsClassifier':KNeighborsClassifier(),\n",
    "    'AdaBoostClassifier':AdaBoostClassifier(),\n",
    "    'GradientBoostingClassifier':GradientBoostingClassifier(),\n",
    "    'BaggingClassifier':BaggingClassifier(),\n",
    "    'RandomForestClassifier':RandomForestClassifier(),\n",
    "    'SVC':SVC(),\n",
    "    'XGBClassifier':XGBClassifier()\n",
    "}\n",
    "model_list=[]\n",
    "roc=[]\n",
    "acc = []\n",
    "f1 = []\n",
    "performance = []\n",
    "for i in range(len(list(models))):\n",
    "    model=list(models.values())[i]\n",
    "    model.fit(X_train,y_train)\n",
    "\n",
    "    #Make Predictions\n",
    "    y_pred=model.predict(X_test)\n",
    "\n",
    "    accuracy , roc_score  , f_1_score =evaluate_model(y_test,y_pred)\n",
    "\n",
    "    print(list(models.keys())[i])\n",
    "    model_list.append(list(models.keys())[i])\n",
    "    roc.append(roc_score)\n",
    "    acc.append(accuracy)\n",
    "    f1.append(f_1_score)\n",
    "    performance.append((list(models.keys())[i] , accuracy ))\n",
    "\n",
    "\n",
    "    print('Model Training Performance')\n",
    "    print(\"ROC:\",roc_score)\n",
    "    print(\"Accuracy:\",accuracy)\n",
    "\n",
    "    \n",
    "    print('='*35)\n",
    "    print('\\n')\n",
    "\n",
    "print(\"Best Model\" , sorted(performance , key = lambda x: x[1])[-1])\n",
    "model = models[sorted(performance , key = lambda x: x[1])[-1][0]]\n",
    "print(model)\n",
    "\n",
    "metrics = pd.DataFrame({\"models\": model_list , \"accuracy\" : acc , \"roc_auc_score\": roc , \"f1_score\" : f1})\n",
    "print(metrics.sort_values('accuracy',ascending=False))\n"
   ]
  },
  {
   "cell_type": "code",
   "execution_count": null,
   "metadata": {},
   "outputs": [],
   "source": []
  }
 ],
 "metadata": {
  "kernelspec": {
   "display_name": "Python 3",
   "language": "python",
   "name": "python3"
  },
  "language_info": {
   "codemirror_mode": {
    "name": "ipython",
    "version": 3
   },
   "file_extension": ".py",
   "mimetype": "text/x-python",
   "name": "python",
   "nbconvert_exporter": "python",
   "pygments_lexer": "ipython3",
   "version": "3.8.0"
  },
  "orig_nbformat": 4
 },
 "nbformat": 4,
 "nbformat_minor": 2
}
