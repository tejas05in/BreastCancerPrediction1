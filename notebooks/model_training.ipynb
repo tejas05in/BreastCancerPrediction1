{
 "cells": [
  {
   "cell_type": "code",
   "execution_count": 48,
   "metadata": {},
   "outputs": [],
   "source": [
    "import pandas as pd"
   ]
  },
  {
   "cell_type": "code",
   "execution_count": 49,
   "metadata": {},
   "outputs": [],
   "source": [
    "df = pd.read_csv('./data/breast_cancer.csv')"
   ]
  },
  {
   "cell_type": "code",
   "execution_count": 50,
   "metadata": {},
   "outputs": [],
   "source": [
    "#highly correlated columns to remove\n",
    "to_drop = ['worst radius', 'worst texture', 'worst perimeter', 'worst area','worst concave points','mean concave points','radius error','area error','mean radius','mean perimeter']\n",
    "df.drop(to_drop,axis=1,inplace=True)"
   ]
  },
  {
   "cell_type": "code",
   "execution_count": 51,
   "metadata": {},
   "outputs": [],
   "source": [
    "## Independent and dependent features\n",
    "X = df.drop('target',axis=1)\n",
    "y = df['target']"
   ]
  },
  {
   "cell_type": "code",
   "execution_count": 52,
   "metadata": {},
   "outputs": [
    {
     "data": {
      "text/plain": [
       "0      0\n",
       "1      0\n",
       "2      0\n",
       "3      0\n",
       "4      0\n",
       "      ..\n",
       "564    1\n",
       "565    0\n",
       "566    1\n",
       "567    1\n",
       "568    0\n",
       "Name: target, Length: 569, dtype: int64"
      ]
     },
     "execution_count": 52,
     "metadata": {},
     "output_type": "execute_result"
    }
   ],
   "source": [
    "y"
   ]
  },
  {
   "cell_type": "code",
   "execution_count": 53,
   "metadata": {},
   "outputs": [],
   "source": [
    "#rectifying target imbalance\n",
    "from imblearn.combine import SMOTETomek\n",
    "\n",
    "resampler = SMOTETomek(sampling_strategy=\"auto\")\n",
    "X , y = resampler.fit_resample(X, y)"
   ]
  },
  {
   "cell_type": "code",
   "execution_count": 54,
   "metadata": {},
   "outputs": [
    {
     "data": {
      "text/plain": [
       "((339, 20), (339, 20))"
      ]
     },
     "execution_count": 54,
     "metadata": {},
     "output_type": "execute_result"
    }
   ],
   "source": [
    "X[y==1].shape , X[y==0].shape"
   ]
  },
  {
   "cell_type": "code",
   "execution_count": 55,
   "metadata": {},
   "outputs": [
    {
     "data": {
      "text/plain": [
       "Index(['mean texture', 'mean area', 'mean smoothness', 'mean compactness',\n",
       "       'mean concavity', 'mean symmetry', 'mean fractal dimension',\n",
       "       'texture error', 'perimeter error', 'smoothness error',\n",
       "       'compactness error', 'concavity error', 'concave points error',\n",
       "       'symmetry error', 'fractal dimension error', 'worst smoothness',\n",
       "       'worst compactness', 'worst concavity', 'worst symmetry',\n",
       "       'worst fractal dimension'],\n",
       "      dtype='object')"
      ]
     },
     "execution_count": 55,
     "metadata": {},
     "output_type": "execute_result"
    }
   ],
   "source": [
    "#All features in X are numerical in nature\n",
    "numerical_cols = X.columns\n",
    "numerical_cols"
   ]
  },
  {
   "cell_type": "code",
   "execution_count": 56,
   "metadata": {},
   "outputs": [],
   "source": [
    "# since all the features are only numerical in nature creating only numerical pipeline\n",
    "from sklearn.impute import SimpleImputer ## HAndling Missing Values\n",
    "from sklearn.preprocessing import StandardScaler # HAndling Feature Scaling\n",
    "## pipelines\n",
    "from sklearn.pipeline import Pipeline\n",
    "from sklearn.compose import ColumnTransformer"
   ]
  },
  {
   "cell_type": "code",
   "execution_count": 57,
   "metadata": {},
   "outputs": [],
   "source": [
    "numerical_pipeline = Pipeline(\n",
    "    steps=[\n",
    "        ('imputer',SimpleImputer(strategy='median')),\n",
    "        ('scaler', StandardScaler())\n",
    "    ]\n",
    ")\n",
    "\n",
    "preprocessor = ColumnTransformer([\n",
    "    ('numerical_pipeline',numerical_pipeline , numerical_cols)\n",
    "])"
   ]
  },
  {
   "cell_type": "code",
   "execution_count": 58,
   "metadata": {},
   "outputs": [],
   "source": [
    "## Train test split\n",
    "\n",
    "from sklearn.model_selection import train_test_split\n",
    "\n",
    "X_train,X_test,y_train,y_test=train_test_split(X,y,test_size=0.30,random_state=30)"
   ]
  },
  {
   "cell_type": "code",
   "execution_count": 59,
   "metadata": {},
   "outputs": [],
   "source": [
    "X_train=pd.DataFrame(preprocessor.fit_transform(X_train),columns=preprocessor.get_feature_names_out())\n",
    "X_test=pd.DataFrame(preprocessor.transform(X_test),columns=preprocessor.get_feature_names_out())"
   ]
  },
  {
   "cell_type": "code",
   "execution_count": 60,
   "metadata": {},
   "outputs": [
    {
     "data": {
      "text/plain": [
       "((474, 20), (204, 20))"
      ]
     },
     "execution_count": 60,
     "metadata": {},
     "output_type": "execute_result"
    }
   ],
   "source": [
    "X_train.shape , X_test.shape"
   ]
  },
  {
   "cell_type": "code",
   "execution_count": 61,
   "metadata": {},
   "outputs": [
    {
     "data": {
      "text/html": [
       "<div>\n",
       "<style scoped>\n",
       "    .dataframe tbody tr th:only-of-type {\n",
       "        vertical-align: middle;\n",
       "    }\n",
       "\n",
       "    .dataframe tbody tr th {\n",
       "        vertical-align: top;\n",
       "    }\n",
       "\n",
       "    .dataframe thead th {\n",
       "        text-align: right;\n",
       "    }\n",
       "</style>\n",
       "<table border=\"1\" class=\"dataframe\">\n",
       "  <thead>\n",
       "    <tr style=\"text-align: right;\">\n",
       "      <th></th>\n",
       "      <th>numerical_pipeline__mean texture</th>\n",
       "      <th>numerical_pipeline__mean area</th>\n",
       "      <th>numerical_pipeline__mean smoothness</th>\n",
       "      <th>numerical_pipeline__mean compactness</th>\n",
       "      <th>numerical_pipeline__mean concavity</th>\n",
       "      <th>numerical_pipeline__mean symmetry</th>\n",
       "      <th>numerical_pipeline__mean fractal dimension</th>\n",
       "      <th>numerical_pipeline__texture error</th>\n",
       "      <th>numerical_pipeline__perimeter error</th>\n",
       "      <th>numerical_pipeline__smoothness error</th>\n",
       "      <th>numerical_pipeline__compactness error</th>\n",
       "      <th>numerical_pipeline__concavity error</th>\n",
       "      <th>numerical_pipeline__concave points error</th>\n",
       "      <th>numerical_pipeline__symmetry error</th>\n",
       "      <th>numerical_pipeline__fractal dimension error</th>\n",
       "      <th>numerical_pipeline__worst smoothness</th>\n",
       "      <th>numerical_pipeline__worst compactness</th>\n",
       "      <th>numerical_pipeline__worst concavity</th>\n",
       "      <th>numerical_pipeline__worst symmetry</th>\n",
       "      <th>numerical_pipeline__worst fractal dimension</th>\n",
       "    </tr>\n",
       "  </thead>\n",
       "  <tbody>\n",
       "    <tr>\n",
       "      <th>0</th>\n",
       "      <td>0.525285</td>\n",
       "      <td>0.296663</td>\n",
       "      <td>-0.156741</td>\n",
       "      <td>0.552338</td>\n",
       "      <td>0.664635</td>\n",
       "      <td>-0.295889</td>\n",
       "      <td>-0.145954</td>\n",
       "      <td>0.028350</td>\n",
       "      <td>-0.228866</td>\n",
       "      <td>-0.194328</td>\n",
       "      <td>0.767455</td>\n",
       "      <td>0.715476</td>\n",
       "      <td>0.835760</td>\n",
       "      <td>-0.541002</td>\n",
       "      <td>0.279123</td>\n",
       "      <td>0.041444</td>\n",
       "      <td>0.909853</td>\n",
       "      <td>1.038119</td>\n",
       "      <td>-0.133680</td>\n",
       "      <td>0.336949</td>\n",
       "    </tr>\n",
       "    <tr>\n",
       "      <th>1</th>\n",
       "      <td>-0.303608</td>\n",
       "      <td>-0.815201</td>\n",
       "      <td>-0.287516</td>\n",
       "      <td>-0.948538</td>\n",
       "      <td>-0.921023</td>\n",
       "      <td>0.017782</td>\n",
       "      <td>-0.483162</td>\n",
       "      <td>-0.709978</td>\n",
       "      <td>-0.233920</td>\n",
       "      <td>-0.222907</td>\n",
       "      <td>-0.929025</td>\n",
       "      <td>-0.802626</td>\n",
       "      <td>-0.534796</td>\n",
       "      <td>0.313407</td>\n",
       "      <td>-1.021859</td>\n",
       "      <td>-0.724652</td>\n",
       "      <td>-1.046339</td>\n",
       "      <td>-1.058726</td>\n",
       "      <td>-0.324837</td>\n",
       "      <td>-1.101611</td>\n",
       "    </tr>\n",
       "    <tr>\n",
       "      <th>2</th>\n",
       "      <td>1.642952</td>\n",
       "      <td>1.514848</td>\n",
       "      <td>1.250063</td>\n",
       "      <td>3.056954</td>\n",
       "      <td>1.722695</td>\n",
       "      <td>2.063612</td>\n",
       "      <td>1.602054</td>\n",
       "      <td>-0.859909</td>\n",
       "      <td>0.583132</td>\n",
       "      <td>-0.949207</td>\n",
       "      <td>1.197387</td>\n",
       "      <td>0.199041</td>\n",
       "      <td>0.527774</td>\n",
       "      <td>-0.296442</td>\n",
       "      <td>0.659337</td>\n",
       "      <td>0.665409</td>\n",
       "      <td>2.871203</td>\n",
       "      <td>1.724801</td>\n",
       "      <td>1.744711</td>\n",
       "      <td>2.348725</td>\n",
       "    </tr>\n",
       "    <tr>\n",
       "      <th>3</th>\n",
       "      <td>-1.797090</td>\n",
       "      <td>-1.036447</td>\n",
       "      <td>0.197212</td>\n",
       "      <td>-0.670311</td>\n",
       "      <td>-1.006048</td>\n",
       "      <td>-0.106207</td>\n",
       "      <td>0.421286</td>\n",
       "      <td>-1.263221</td>\n",
       "      <td>-0.864892</td>\n",
       "      <td>-0.461251</td>\n",
       "      <td>-0.756333</td>\n",
       "      <td>-0.953391</td>\n",
       "      <td>-0.902238</td>\n",
       "      <td>-0.123610</td>\n",
       "      <td>-0.622827</td>\n",
       "      <td>-0.002543</td>\n",
       "      <td>-0.686057</td>\n",
       "      <td>-1.034945</td>\n",
       "      <td>-0.024616</td>\n",
       "      <td>-0.430878</td>\n",
       "    </tr>\n",
       "    <tr>\n",
       "      <th>4</th>\n",
       "      <td>-1.147437</td>\n",
       "      <td>-0.818037</td>\n",
       "      <td>0.296988</td>\n",
       "      <td>-0.622595</td>\n",
       "      <td>-0.720057</td>\n",
       "      <td>0.196473</td>\n",
       "      <td>-0.149869</td>\n",
       "      <td>-0.344336</td>\n",
       "      <td>-0.705260</td>\n",
       "      <td>-0.126614</td>\n",
       "      <td>-0.835196</td>\n",
       "      <td>-0.474711</td>\n",
       "      <td>-0.390012</td>\n",
       "      <td>-0.445817</td>\n",
       "      <td>-0.441728</td>\n",
       "      <td>0.205064</td>\n",
       "      <td>-0.726821</td>\n",
       "      <td>-0.595465</td>\n",
       "      <td>-0.440659</td>\n",
       "      <td>-0.383628</td>\n",
       "    </tr>\n",
       "  </tbody>\n",
       "</table>\n",
       "</div>"
      ],
      "text/plain": [
       "   numerical_pipeline__mean texture  numerical_pipeline__mean area   \n",
       "0                          0.525285                       0.296663  \\\n",
       "1                         -0.303608                      -0.815201   \n",
       "2                          1.642952                       1.514848   \n",
       "3                         -1.797090                      -1.036447   \n",
       "4                         -1.147437                      -0.818037   \n",
       "\n",
       "   numerical_pipeline__mean smoothness  numerical_pipeline__mean compactness   \n",
       "0                            -0.156741                              0.552338  \\\n",
       "1                            -0.287516                             -0.948538   \n",
       "2                             1.250063                              3.056954   \n",
       "3                             0.197212                             -0.670311   \n",
       "4                             0.296988                             -0.622595   \n",
       "\n",
       "   numerical_pipeline__mean concavity  numerical_pipeline__mean symmetry   \n",
       "0                            0.664635                          -0.295889  \\\n",
       "1                           -0.921023                           0.017782   \n",
       "2                            1.722695                           2.063612   \n",
       "3                           -1.006048                          -0.106207   \n",
       "4                           -0.720057                           0.196473   \n",
       "\n",
       "   numerical_pipeline__mean fractal dimension   \n",
       "0                                   -0.145954  \\\n",
       "1                                   -0.483162   \n",
       "2                                    1.602054   \n",
       "3                                    0.421286   \n",
       "4                                   -0.149869   \n",
       "\n",
       "   numerical_pipeline__texture error  numerical_pipeline__perimeter error   \n",
       "0                           0.028350                            -0.228866  \\\n",
       "1                          -0.709978                            -0.233920   \n",
       "2                          -0.859909                             0.583132   \n",
       "3                          -1.263221                            -0.864892   \n",
       "4                          -0.344336                            -0.705260   \n",
       "\n",
       "   numerical_pipeline__smoothness error   \n",
       "0                             -0.194328  \\\n",
       "1                             -0.222907   \n",
       "2                             -0.949207   \n",
       "3                             -0.461251   \n",
       "4                             -0.126614   \n",
       "\n",
       "   numerical_pipeline__compactness error  numerical_pipeline__concavity error   \n",
       "0                               0.767455                             0.715476  \\\n",
       "1                              -0.929025                            -0.802626   \n",
       "2                               1.197387                             0.199041   \n",
       "3                              -0.756333                            -0.953391   \n",
       "4                              -0.835196                            -0.474711   \n",
       "\n",
       "   numerical_pipeline__concave points error   \n",
       "0                                  0.835760  \\\n",
       "1                                 -0.534796   \n",
       "2                                  0.527774   \n",
       "3                                 -0.902238   \n",
       "4                                 -0.390012   \n",
       "\n",
       "   numerical_pipeline__symmetry error   \n",
       "0                           -0.541002  \\\n",
       "1                            0.313407   \n",
       "2                           -0.296442   \n",
       "3                           -0.123610   \n",
       "4                           -0.445817   \n",
       "\n",
       "   numerical_pipeline__fractal dimension error   \n",
       "0                                     0.279123  \\\n",
       "1                                    -1.021859   \n",
       "2                                     0.659337   \n",
       "3                                    -0.622827   \n",
       "4                                    -0.441728   \n",
       "\n",
       "   numerical_pipeline__worst smoothness   \n",
       "0                              0.041444  \\\n",
       "1                             -0.724652   \n",
       "2                              0.665409   \n",
       "3                             -0.002543   \n",
       "4                              0.205064   \n",
       "\n",
       "   numerical_pipeline__worst compactness  numerical_pipeline__worst concavity   \n",
       "0                               0.909853                             1.038119  \\\n",
       "1                              -1.046339                            -1.058726   \n",
       "2                               2.871203                             1.724801   \n",
       "3                              -0.686057                            -1.034945   \n",
       "4                              -0.726821                            -0.595465   \n",
       "\n",
       "   numerical_pipeline__worst symmetry   \n",
       "0                           -0.133680  \\\n",
       "1                           -0.324837   \n",
       "2                            1.744711   \n",
       "3                           -0.024616   \n",
       "4                           -0.440659   \n",
       "\n",
       "   numerical_pipeline__worst fractal dimension  \n",
       "0                                     0.336949  \n",
       "1                                    -1.101611  \n",
       "2                                     2.348725  \n",
       "3                                    -0.430878  \n",
       "4                                    -0.383628  "
      ]
     },
     "execution_count": 61,
     "metadata": {},
     "output_type": "execute_result"
    }
   ],
   "source": [
    "X_train.head()"
   ]
  },
  {
   "cell_type": "code",
   "execution_count": 62,
   "metadata": {},
   "outputs": [
    {
     "data": {
      "text/html": [
       "<style>#sk-container-id-2 {color: black;background-color: white;}#sk-container-id-2 pre{padding: 0;}#sk-container-id-2 div.sk-toggleable {background-color: white;}#sk-container-id-2 label.sk-toggleable__label {cursor: pointer;display: block;width: 100%;margin-bottom: 0;padding: 0.3em;box-sizing: border-box;text-align: center;}#sk-container-id-2 label.sk-toggleable__label-arrow:before {content: \"▸\";float: left;margin-right: 0.25em;color: #696969;}#sk-container-id-2 label.sk-toggleable__label-arrow:hover:before {color: black;}#sk-container-id-2 div.sk-estimator:hover label.sk-toggleable__label-arrow:before {color: black;}#sk-container-id-2 div.sk-toggleable__content {max-height: 0;max-width: 0;overflow: hidden;text-align: left;background-color: #f0f8ff;}#sk-container-id-2 div.sk-toggleable__content pre {margin: 0.2em;color: black;border-radius: 0.25em;background-color: #f0f8ff;}#sk-container-id-2 input.sk-toggleable__control:checked~div.sk-toggleable__content {max-height: 200px;max-width: 100%;overflow: auto;}#sk-container-id-2 input.sk-toggleable__control:checked~label.sk-toggleable__label-arrow:before {content: \"▾\";}#sk-container-id-2 div.sk-estimator input.sk-toggleable__control:checked~label.sk-toggleable__label {background-color: #d4ebff;}#sk-container-id-2 div.sk-label input.sk-toggleable__control:checked~label.sk-toggleable__label {background-color: #d4ebff;}#sk-container-id-2 input.sk-hidden--visually {border: 0;clip: rect(1px 1px 1px 1px);clip: rect(1px, 1px, 1px, 1px);height: 1px;margin: -1px;overflow: hidden;padding: 0;position: absolute;width: 1px;}#sk-container-id-2 div.sk-estimator {font-family: monospace;background-color: #f0f8ff;border: 1px dotted black;border-radius: 0.25em;box-sizing: border-box;margin-bottom: 0.5em;}#sk-container-id-2 div.sk-estimator:hover {background-color: #d4ebff;}#sk-container-id-2 div.sk-parallel-item::after {content: \"\";width: 100%;border-bottom: 1px solid gray;flex-grow: 1;}#sk-container-id-2 div.sk-label:hover label.sk-toggleable__label {background-color: #d4ebff;}#sk-container-id-2 div.sk-serial::before {content: \"\";position: absolute;border-left: 1px solid gray;box-sizing: border-box;top: 0;bottom: 0;left: 50%;z-index: 0;}#sk-container-id-2 div.sk-serial {display: flex;flex-direction: column;align-items: center;background-color: white;padding-right: 0.2em;padding-left: 0.2em;position: relative;}#sk-container-id-2 div.sk-item {position: relative;z-index: 1;}#sk-container-id-2 div.sk-parallel {display: flex;align-items: stretch;justify-content: center;background-color: white;position: relative;}#sk-container-id-2 div.sk-item::before, #sk-container-id-2 div.sk-parallel-item::before {content: \"\";position: absolute;border-left: 1px solid gray;box-sizing: border-box;top: 0;bottom: 0;left: 50%;z-index: -1;}#sk-container-id-2 div.sk-parallel-item {display: flex;flex-direction: column;z-index: 1;position: relative;background-color: white;}#sk-container-id-2 div.sk-parallel-item:first-child::after {align-self: flex-end;width: 50%;}#sk-container-id-2 div.sk-parallel-item:last-child::after {align-self: flex-start;width: 50%;}#sk-container-id-2 div.sk-parallel-item:only-child::after {width: 0;}#sk-container-id-2 div.sk-dashed-wrapped {border: 1px dashed gray;margin: 0 0.4em 0.5em 0.4em;box-sizing: border-box;padding-bottom: 0.4em;background-color: white;}#sk-container-id-2 div.sk-label label {font-family: monospace;font-weight: bold;display: inline-block;line-height: 1.2em;}#sk-container-id-2 div.sk-label-container {text-align: center;}#sk-container-id-2 div.sk-container {/* jupyter's `normalize.less` sets `[hidden] { display: none; }` but bootstrap.min.css set `[hidden] { display: none !important; }` so we also need the `!important` here to be able to override the default hidden behavior on the sphinx rendered scikit-learn.org. See: https://github.com/scikit-learn/scikit-learn/issues/21755 */display: inline-block !important;position: relative;}#sk-container-id-2 div.sk-text-repr-fallback {display: none;}</style><div id=\"sk-container-id-2\" class=\"sk-top-container\"><div class=\"sk-text-repr-fallback\"><pre>PCA(n_components=20)</pre><b>In a Jupyter environment, please rerun this cell to show the HTML representation or trust the notebook. <br />On GitHub, the HTML representation is unable to render, please try loading this page with nbviewer.org.</b></div><div class=\"sk-container\" hidden><div class=\"sk-item\"><div class=\"sk-estimator sk-toggleable\"><input class=\"sk-toggleable__control sk-hidden--visually\" id=\"sk-estimator-id-2\" type=\"checkbox\" checked><label for=\"sk-estimator-id-2\" class=\"sk-toggleable__label sk-toggleable__label-arrow\">PCA</label><div class=\"sk-toggleable__content\"><pre>PCA(n_components=20)</pre></div></div></div></div></div>"
      ],
      "text/plain": [
       "PCA(n_components=20)"
      ]
     },
     "execution_count": 62,
     "metadata": {},
     "output_type": "execute_result"
    }
   ],
   "source": [
    "from sklearn.decomposition import PCA\n",
    "covar_matrix = PCA(n_components=X_train.shape[1])\n",
    "covar_matrix.fit(X_train)"
   ]
  },
  {
   "cell_type": "code",
   "execution_count": 63,
   "metadata": {},
   "outputs": [
    {
     "data": {
      "image/png": "[encoded data removed]",
      "text/plain": [
       "<Figure size 640x480 with 1 Axes>"
      ]
     },
     "metadata": {},
     "output_type": "display_data"
    }
   ],
   "source": [
    "import matplotlib.pyplot as plt\n",
    "plt.style.use(\"ggplot\") \n",
    "plt.ylabel('Eigenvalues')\n",
    "plt.xlabel('# of feautres')\n",
    "plt.ylim(0,max(covar_matrix.explained_variance_))\n",
    "plt.axhline(y=1,color = 'r' , linestyle = '--')\n",
    "plt.plot(covar_matrix.explained_variance_)\n",
    "plt.show()"
   ]
  },
  {
   "cell_type": "code",
   "execution_count": 64,
   "metadata": {},
   "outputs": [],
   "source": [
    "pca = PCA(n_components=5)\n",
    "X_train = pca.fit_transform(X_train)\n",
    "X_test = pca.transform(X_test)"
   ]
  },
  {
   "cell_type": "code",
   "execution_count": 65,
   "metadata": {},
   "outputs": [
    {
     "data": {
      "text/plain": [
       "array([45.06515225, 13.16253476, 11.12646544,  6.95690434,  5.86783058])"
      ]
     },
     "execution_count": 65,
     "metadata": {},
     "output_type": "execute_result"
    }
   ],
   "source": [
    "pca.explained_variance_ratio_*100"
   ]
  },
  {
   "cell_type": "code",
   "execution_count": 66,
   "metadata": {},
   "outputs": [],
   "source": [
    "from sklearn.linear_model import LogisticRegression\n",
    "from sklearn.linear_model import RidgeClassifier\n",
    "from sklearn.naive_bayes import BernoulliNB\n",
    "from sklearn.tree import DecisionTreeClassifier\n",
    "from sklearn.neighbors import KNeighborsClassifier\n",
    "from sklearn.ensemble import AdaBoostClassifier\n",
    "from sklearn.ensemble import GradientBoostingClassifier\n",
    "from sklearn.ensemble import BaggingClassifier\n",
    "from sklearn.ensemble import RandomForestClassifier\n",
    "from sklearn.svm import SVC\n",
    "from xgboost import XGBClassifier\n",
    "from sklearn.metrics import  accuracy_score , roc_auc_score , f1_score"
   ]
  },
  {
   "cell_type": "code",
   "execution_count": 67,
   "metadata": {},
   "outputs": [],
   "source": [
    "# a function to evaluate the model\n",
    "def evaluate_model(true, predicted):\n",
    "    accuracy = accuracy_score(true, predicted)\n",
    "    roc_score = roc_auc_score(true, predicted)\n",
    "    f_1_score = f1_score(true, predicted)\n",
    "\n",
    "    return accuracy , roc_score , f_1_score"
   ]
  },
  {
   "cell_type": "code",
   "execution_count": 69,
   "metadata": {},
   "outputs": [
    {
     "name": "stdout",
     "output_type": "stream",
     "text": [
      "LogisticRegression\n",
      "Model Training Performance\n",
      "ROC: 0.9704861111111112\n",
      "Accuracy: 0.9705882352941176\n",
      "===================================\n",
      "\n",
      "\n",
      "RidgeClassifier\n",
      "Model Training Performance\n",
      "ROC: 0.9484953703703705\n",
      "Accuracy: 0.946078431372549\n",
      "===================================\n",
      "\n",
      "\n",
      "BernoulliNB\n",
      "Model Training Performance\n",
      "ROC: 0.8599537037037037\n",
      "Accuracy: 0.8578431372549019\n",
      "===================================\n",
      "\n",
      "\n",
      "DecisionTreeClassifier\n",
      "Model Training Performance\n",
      "ROC: 0.9212962962962963\n",
      "Accuracy: 0.9215686274509803\n",
      "===================================\n",
      "\n",
      "\n",
      "KNeighborsClassifier\n",
      "Model Training Performance\n",
      "ROC: 0.9415509259259259\n",
      "Accuracy: 0.9411764705882353\n",
      "===================================\n",
      "\n",
      "\n",
      "AdaBoostClassifier\n",
      "Model Training Performance\n",
      "ROC: 0.9357638888888888\n",
      "Accuracy: 0.9362745098039216\n",
      "===================================\n",
      "\n",
      "\n",
      "GradientBoostingClassifier\n",
      "Model Training Performance\n",
      "ROC: 0.9606481481481483\n",
      "Accuracy: 0.9607843137254902\n",
      "===================================\n",
      "\n",
      "\n",
      "BaggingClassifier\n",
      "Model Training Performance\n",
      "ROC: 0.9658564814814815\n",
      "Accuracy: 0.9656862745098039\n",
      "===================================\n",
      "\n",
      "\n",
      "RandomForestClassifier\n",
      "Model Training Performance\n",
      "ROC: 0.9508101851851851\n",
      "Accuracy: 0.9509803921568627\n",
      "===================================\n",
      "\n",
      "\n",
      "SVC\n",
      "Model Training Performance\n",
      "ROC: 0.9658564814814815\n",
      "Accuracy: 0.9656862745098039\n",
      "===================================\n",
      "\n",
      "\n",
      "XGBClassifier\n",
      "Model Training Performance\n",
      "ROC: 0.9560185185185186\n",
      "Accuracy: 0.9558823529411765\n",
      "===================================\n",
      "\n",
      "\n",
      "Best Model ('LogisticRegression', 0.9705882352941176)\n",
      "LogisticRegression()\n",
      "                        models  accuracy  roc_auc_score  f1_score\n",
      "0           LogisticRegression  0.970588       0.970486  0.968750\n",
      "7            BaggingClassifier  0.965686       0.965856  0.963731\n",
      "9                          SVC  0.965686       0.965856  0.963731\n",
      "6   GradientBoostingClassifier  0.960784       0.960648  0.958333\n",
      "10               XGBClassifier  0.955882       0.956019  0.953368\n",
      "8       RandomForestClassifier  0.950980       0.950810  0.947917\n",
      "1              RidgeClassifier  0.946078       0.948495  0.945274\n",
      "4         KNeighborsClassifier  0.941176       0.941551  0.938144\n",
      "5           AdaBoostClassifier  0.936275       0.935764  0.931937\n",
      "3       DecisionTreeClassifier  0.921569       0.921296  0.916667\n",
      "2                  BernoulliNB  0.857843       0.859954  0.855721\n"
     ]
    }
   ],
   "source": [
    "models={\n",
    "    'LogisticRegression':LogisticRegression(),\n",
    "    'RidgeClassifier':RidgeClassifier(),\n",
    "    'BernoulliNB':BernoulliNB(),\n",
    "    'DecisionTreeClassifier':DecisionTreeClassifier(),\n",
    "    'KNeighborsClassifier':KNeighborsClassifier(),\n",
    "    'AdaBoostClassifier':AdaBoostClassifier(),\n",
    "    'GradientBoostingClassifier':GradientBoostingClassifier(),\n",
    "    'BaggingClassifier':BaggingClassifier(),\n",
    "    'RandomForestClassifier':RandomForestClassifier(),\n",
    "    'SVC':SVC(),\n",
    "    'XGBClassifier':XGBClassifier()\n",
    "}\n",
    "model_list=[]\n",
    "roc=[]\n",
    "acc = []\n",
    "f1 = []\n",
    "performance = []\n",
    "for i in range(len(list(models))):\n",
    "    model=list(models.values())[i]\n",
    "    model.fit(X_train,y_train)\n",
    "\n",
    "    #Make Predictions\n",
    "    y_pred=model.predict(X_test)\n",
    "\n",
    "    accuracy , roc_score  , f_1_score =evaluate_model(y_test,y_pred)\n",
    "\n",
    "    print(list(models.keys())[i])\n",
    "    model_list.append(list(models.keys())[i])\n",
    "    roc.append(roc_score)\n",
    "    acc.append(accuracy)\n",
    "    f1.append(f_1_score)\n",
    "    performance.append((list(models.keys())[i] , accuracy ))\n",
    "\n",
    "\n",
    "    print('Model Training Performance')\n",
    "    print(\"ROC:\",roc_score)\n",
    "    print(\"Accuracy:\",accuracy)\n",
    "\n",
    "    \n",
    "    print('='*35)\n",
    "    print('\\n')\n",
    "\n",
    "print(\"Best Model\" , sorted(performance , key = lambda x: x[1])[-1])\n",
    "model = models[sorted(performance , key = lambda x: x[1])[-1][0]]\n",
    "print(model)\n",
    "\n",
    "metrics = pd.DataFrame({\"models\": model_list , \"accuracy\" : acc , \"roc_auc_score\": roc , \"f1_score\" : f1})\n",
    "print(metrics.sort_values('accuracy',ascending=False))\n"
   ]
  },
  {
   "cell_type": "code",
   "execution_count": 70,
   "metadata": {},
   "outputs": [
    {
     "data": {
      "text/html": [
       "<style>#sk-container-id-3 {color: black;background-color: white;}#sk-container-id-3 pre{padding: 0;}#sk-container-id-3 div.sk-toggleable {background-color: white;}#sk-container-id-3 label.sk-toggleable__label {cursor: pointer;display: block;width: 100%;margin-bottom: 0;padding: 0.3em;box-sizing: border-box;text-align: center;}#sk-container-id-3 label.sk-toggleable__label-arrow:before {content: \"▸\";float: left;margin-right: 0.25em;color: #696969;}#sk-container-id-3 label.sk-toggleable__label-arrow:hover:before {color: black;}#sk-container-id-3 div.sk-estimator:hover label.sk-toggleable__label-arrow:before {color: black;}#sk-container-id-3 div.sk-toggleable__content {max-height: 0;max-width: 0;overflow: hidden;text-align: left;background-color: #f0f8ff;}#sk-container-id-3 div.sk-toggleable__content pre {margin: 0.2em;color: black;border-radius: 0.25em;background-color: #f0f8ff;}#sk-container-id-3 input.sk-toggleable__control:checked~div.sk-toggleable__content {max-height: 200px;max-width: 100%;overflow: auto;}#sk-container-id-3 input.sk-toggleable__control:checked~label.sk-toggleable__label-arrow:before {content: \"▾\";}#sk-container-id-3 div.sk-estimator input.sk-toggleable__control:checked~label.sk-toggleable__label {background-color: #d4ebff;}#sk-container-id-3 div.sk-label input.sk-toggleable__control:checked~label.sk-toggleable__label {background-color: #d4ebff;}#sk-container-id-3 input.sk-hidden--visually {border: 0;clip: rect(1px 1px 1px 1px);clip: rect(1px, 1px, 1px, 1px);height: 1px;margin: -1px;overflow: hidden;padding: 0;position: absolute;width: 1px;}#sk-container-id-3 div.sk-estimator {font-family: monospace;background-color: #f0f8ff;border: 1px dotted black;border-radius: 0.25em;box-sizing: border-box;margin-bottom: 0.5em;}#sk-container-id-3 div.sk-estimator:hover {background-color: #d4ebff;}#sk-container-id-3 div.sk-parallel-item::after {content: \"\";width: 100%;border-bottom: 1px solid gray;flex-grow: 1;}#sk-container-id-3 div.sk-label:hover label.sk-toggleable__label {background-color: #d4ebff;}#sk-container-id-3 div.sk-serial::before {content: \"\";position: absolute;border-left: 1px solid gray;box-sizing: border-box;top: 0;bottom: 0;left: 50%;z-index: 0;}#sk-container-id-3 div.sk-serial {display: flex;flex-direction: column;align-items: center;background-color: white;padding-right: 0.2em;padding-left: 0.2em;position: relative;}#sk-container-id-3 div.sk-item {position: relative;z-index: 1;}#sk-container-id-3 div.sk-parallel {display: flex;align-items: stretch;justify-content: center;background-color: white;position: relative;}#sk-container-id-3 div.sk-item::before, #sk-container-id-3 div.sk-parallel-item::before {content: \"\";position: absolute;border-left: 1px solid gray;box-sizing: border-box;top: 0;bottom: 0;left: 50%;z-index: -1;}#sk-container-id-3 div.sk-parallel-item {display: flex;flex-direction: column;z-index: 1;position: relative;background-color: white;}#sk-container-id-3 div.sk-parallel-item:first-child::after {align-self: flex-end;width: 50%;}#sk-container-id-3 div.sk-parallel-item:last-child::after {align-self: flex-start;width: 50%;}#sk-container-id-3 div.sk-parallel-item:only-child::after {width: 0;}#sk-container-id-3 div.sk-dashed-wrapped {border: 1px dashed gray;margin: 0 0.4em 0.5em 0.4em;box-sizing: border-box;padding-bottom: 0.4em;background-color: white;}#sk-container-id-3 div.sk-label label {font-family: monospace;font-weight: bold;display: inline-block;line-height: 1.2em;}#sk-container-id-3 div.sk-label-container {text-align: center;}#sk-container-id-3 div.sk-container {/* jupyter's `normalize.less` sets `[hidden] { display: none; }` but bootstrap.min.css set `[hidden] { display: none !important; }` so we also need the `!important` here to be able to override the default hidden behavior on the sphinx rendered scikit-learn.org. See: https://github.com/scikit-learn/scikit-learn/issues/21755 */display: inline-block !important;position: relative;}#sk-container-id-3 div.sk-text-repr-fallback {display: none;}</style><div id=\"sk-container-id-3\" class=\"sk-top-container\"><div class=\"sk-text-repr-fallback\"><pre>LogisticRegression()</pre><b>In a Jupyter environment, please rerun this cell to show the HTML representation or trust the notebook. <br />On GitHub, the HTML representation is unable to render, please try loading this page with nbviewer.org.</b></div><div class=\"sk-container\" hidden><div class=\"sk-item\"><div class=\"sk-estimator sk-toggleable\"><input class=\"sk-toggleable__control sk-hidden--visually\" id=\"sk-estimator-id-3\" type=\"checkbox\" checked><label for=\"sk-estimator-id-3\" class=\"sk-toggleable__label sk-toggleable__label-arrow\">LogisticRegression</label><div class=\"sk-toggleable__content\"><pre>LogisticRegression()</pre></div></div></div></div></div>"
      ],
      "text/plain": [
       "LogisticRegression()"
      ]
     },
     "execution_count": 70,
     "metadata": {},
     "output_type": "execute_result"
    }
   ],
   "source": [
    "model"
   ]
  },
  {
   "cell_type": "code",
   "execution_count": null,
   "metadata": {},
   "outputs": [],
   "source": []
  }
 ],
 "metadata": {
  "kernelspec": {
   "display_name": "Python 3",
   "language": "python",
   "name": "python3"
  },
  "language_info": {
   "codemirror_mode": {
    "name": "ipython",
    "version": 3
   },
   "file_extension": ".py",
   "mimetype": "text/x-python",
   "name": "python",
   "nbconvert_exporter": "python",
   "pygments_lexer": "ipython3",
   "version": "3.8.0"
  },
  "orig_nbformat": 4
 },
 "nbformat": 4,
 "nbformat_minor": 2
}
